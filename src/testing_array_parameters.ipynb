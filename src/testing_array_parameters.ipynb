{
 "cells": [
  {
   "cell_type": "code",
   "execution_count": 1,
   "metadata": {},
   "outputs": [],
   "source": [
    "using GamsStructure\n",
    "\n",
    "using JuMP.Containers"
   ]
  },
  {
   "cell_type": "code",
   "execution_count": 2,
   "metadata": {},
   "outputs": [],
   "source": [
    "struct GP{N}\n",
    "    universe\n",
    "    sets::Tuple{Vararg{Symbol}}\n",
    "    value::Array{Float64,N}\n",
    "    description::String\n",
    "    GP(GU,sets::Tuple{Vararg{Symbol}},description::String) = new{length(sets)}(GU,sets,zeros(Float64,Tuple(length(GU[e]) for e∈sets)),description)\n",
    "    GP(GU,sets::Tuple{Vararg{Symbol}};description = \"\") = new{length(sets)}(GU,sets,zeros(Float64,Tuple(length(GU[e]) for e∈sets)),description)\n",
    "end\n",
    "\n",
    "\n",
    "function Base.show(io::IO,P::GP)\n",
    "    print(\"Description: $(P.description)\\nDomain: $(P.sets)\\n\\n\")\n",
    "    show(P.value)\n",
    "end"
   ]
  },
  {
   "cell_type": "code",
   "execution_count": 3,
   "metadata": {},
   "outputs": [],
   "source": [
    "function convert_idx(P::GP,i::Int,idx::Union{Symbol,Colon})\n",
    "    GU = P.universe\n",
    "    set = P.sets[i]\n",
    "    return collect(1:length(GU[set]))\n",
    "end\n",
    "\n",
    "function convert_idx(P::GP,i::Int,idx::Vector{Symbol})\n",
    "    GU = P.universe\n",
    "    set = indexin(idx,[e for e in GU[P.sets[i]]])#findall(x-> x∈idx, GU[P.sets[i]])\n",
    "    if length(set) == 1\n",
    "        return set[1]\n",
    "    end\n",
    "    return set\n",
    "end\n",
    "\n",
    "function convert_idx(P::GP,i::Int,idx::Vector{Bool})\n",
    "    #GU = P.universe\n",
    "    #set = P.sets[i]\n",
    "    return idx\n",
    "end\n",
    "\n",
    "function convert_idx(P::GP,i::Int,idx)\n",
    "    return idx\n",
    "end\n",
    "\n",
    "function Base.getindex(P::GP,idx...)\n",
    "    idx = map(x->convert_idx(P,x[1],x[2]),enumerate(idx))\n",
    "    return P.value[idx...]\n",
    "end\n",
    "\n",
    "\n",
    "function Base.iterate(iter::GP)\n",
    "    next = iterate(iter.value)\n",
    "    return next === nothing ? nothing : (next[1], next[2])\n",
    "end\n",
    "\n",
    "function Base.iterate(iter::GP, state)\n",
    "    next = iterate(iter.value, state)\n",
    "    return next === nothing ? nothing : (next[1], next[2])\n",
    "end\n",
    "\n",
    "\n",
    "function Base.setindex!(X::GP,value,idx...)\n",
    "    new_index = map(x->convert_idx(X,x[1],x[2]),enumerate(idx))\n",
    "    X.value[new_index...] = value\n",
    "end\n",
    "\n",
    "function Base.length(X::GP)\n",
    "    return length(X.value)\n",
    "end"
   ]
  },
  {
   "cell_type": "code",
   "execution_count": 4,
   "metadata": {},
   "outputs": [
    {
     "data": {
      "text/plain": []
     },
     "metadata": {},
     "output_type": "display_data"
    },
    {
     "name": "stdout",
     "output_type": "stream",
     "text": [
      "Description: This is a test\n",
      "Domain: (:i, :i)\n",
      "\n",
      "[1.0 2.0; 3.0 4.0]"
     ]
    }
   ],
   "source": [
    "GU = GamsUniverse()\n",
    "\n",
    "@GamsSet(GU,:i,\"Test\",begin\n",
    "    a, \"\"\n",
    "    b, \"\"\n",
    "end)\n",
    "\n",
    "X = GP(GU,(:i,:i),\"This is a test\")\n",
    "\n",
    "X[[:a],[:a]] = 1\n",
    "X[[:a],[:b]] = 2\n",
    "X[[:b],[:a]] = 3\n",
    "X[[:b],[:b]] = 4\n",
    "\n",
    "X"
   ]
  },
  {
   "cell_type": "code",
   "execution_count": 5,
   "metadata": {},
   "outputs": [
    {
     "data": {
      "text/plain": [
       "2-element Vector{Float64}:\n",
       " 3.0\n",
       " 4.0"
      ]
     },
     "metadata": {},
     "output_type": "display_data"
    }
   ],
   "source": [
    "c = findall(X.>2)\n",
    "X[c]"
   ]
  },
  {
   "cell_type": "code",
   "execution_count": 6,
   "metadata": {},
   "outputs": [
    {
     "data": {
      "text/plain": [
       "1.0"
      ]
     },
     "metadata": {},
     "output_type": "display_data"
    }
   ],
   "source": [
    "X[[:a],[:a]]"
   ]
  },
  {
   "cell_type": "code",
   "execution_count": 9,
   "metadata": {},
   "outputs": [
    {
     "data": {
      "text/plain": [
       "2-element Vector{Int64}:\n",
       " 10\n",
       " 11"
      ]
     },
     "metadata": {},
     "output_type": "display_data"
    }
   ],
   "source": [
    "X[findall(X .>2)]=[10,11]"
   ]
  },
  {
   "cell_type": "code",
   "execution_count": 10,
   "metadata": {},
   "outputs": [
    {
     "data": {
      "text/plain": []
     },
     "metadata": {},
     "output_type": "display_data"
    },
    {
     "name": "stdout",
     "output_type": "stream",
     "text": [
      "Description: This is a test\n",
      "Domain: (:i, :i)\n",
      "\n",
      "[1.0 2.0; 10.0 11.0]"
     ]
    }
   ],
   "source": [
    "X"
   ]
  },
  {
   "cell_type": "code",
   "execution_count": null,
   "metadata": {},
   "outputs": [],
   "source": [
    "findall(x->x>0,Y)"
   ]
  },
  {
   "cell_type": "code",
   "execution_count": 13,
   "metadata": {},
   "outputs": [
    {
     "data": {
      "text/plain": [
       "2×2 Matrix{Float64}:\n",
       "  2.0   4.0\n",
       " 20.0  22.0"
      ]
     },
     "metadata": {},
     "output_type": "display_data"
    }
   ],
   "source": [
    "X[:i,:i] = X[:i,:i].+X[:i,:i]"
   ]
  },
  {
   "cell_type": "code",
   "execution_count": 23,
   "metadata": {},
   "outputs": [
    {
     "name": "stdout",
     "output_type": "stream",
     "text": [
      "a -> 22.0\n",
      "b -> 26.0\n"
     ]
    }
   ],
   "source": [
    "for i∈GU[:i]\n",
    "    println(\"$i -> $(sum(X[:i,[i]]))\") #Careful here\n",
    "end"
   ]
  },
  {
   "cell_type": "code",
   "execution_count": 27,
   "metadata": {},
   "outputs": [
    {
     "data": {
      "text/plain": [
       "2×2 Matrix{Float64}:\n",
       "  4.0   8.0\n",
       " 40.0  44.0"
      ]
     },
     "metadata": {},
     "output_type": "display_data"
    }
   ],
   "source": [
    "X[:i,:i] + X[:i,:i]"
   ]
  },
  {
   "cell_type": "code",
   "execution_count": 29,
   "metadata": {},
   "outputs": [
    {
     "name": "stdout",
     "output_type": "stream",
     "text": [
      "2.0\n",
      "4.0\n",
      "20.0\n",
      "22.0\n"
     ]
    }
   ],
   "source": [
    "for i∈GU[:i],j∈GU[:i]\n",
    "    println(X[[i],[j]])\n",
    "end"
   ]
  },
  {
   "cell_type": "code",
   "execution_count": 31,
   "metadata": {},
   "outputs": [
    {
     "data": {
      "text/plain": [
       "\"[2.0 4.0; 20.0 22.0]\""
      ]
     },
     "metadata": {},
     "output_type": "display_data"
    }
   ],
   "source": [
    "string(X.value)"
   ]
  },
  {
   "cell_type": "code",
   "execution_count": 32,
   "metadata": {},
   "outputs": [
    {
     "data": {
      "text/plain": [
       "2×2 Matrix{Float64}:\n",
       "  2.0   4.0\n",
       " 20.0  22.0"
      ]
     },
     "metadata": {},
     "output_type": "display_data"
    }
   ],
   "source": [
    "X.value"
   ]
  }
 ],
 "metadata": {
  "kernelspec": {
   "display_name": "Julia 1.8.0",
   "language": "julia",
   "name": "julia-1.8"
  },
  "language_info": {
   "file_extension": ".jl",
   "mimetype": "application/julia",
   "name": "julia",
   "version": "1.8.0"
  },
  "orig_nbformat": 4
 },
 "nbformat": 4,
 "nbformat_minor": 2
}
