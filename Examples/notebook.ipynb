{
 "cells": [
  {
   "cell_type": "code",
   "execution_count": 5,
   "metadata": {},
   "outputs": [],
   "source": [
    "using GamsStructure\n",
    "using JuMP\n",
    "using Complementarity\n",
    "using GLPK\n",
    "using PATHSolver"
   ]
  },
  {
   "cell_type": "code",
   "execution_count": 4,
   "metadata": {},
   "outputs": [
    {
     "data": {
      "text/plain": []
     },
     "metadata": {},
     "output_type": "display_data"
    },
    {
     "name": "stdout",
     "output_type": "stream",
     "text": [
      "Sets\n",
      "\n",
      "j => Markets\n",
      "i => Canning plants\n",
      "\n",
      "Parameters\n",
      "\n",
      "a => (:i,) => Capacity of plant i in cases\n",
      "b => (:j,) => Demand at market j in cases\n",
      "d => (:i, :j) => distance in thousands of miles\n",
      "c => (:i, :j) => transport cost in thousands of dollars per case\n",
      "\n",
      "Scalars\n",
      "\n",
      "f => 90 => freight in dollars per case per thousand miles\n"
     ]
    }
   ],
   "source": [
    "GU = GamsUniverse()\n",
    "\n",
    "\n",
    "@GamsSets(GU,\"ex01_data\",begin\n",
    "    :i, \"Canning plants\"\n",
    "    :j, \"Markets\"\n",
    "end)\n",
    "\n",
    "\n",
    "@GamsParameters(GU,\"ex01_data\",begin\n",
    "    :a, (:i,), \"Capacity of plant i in cases\"\n",
    "    :b, (:j,), \"Demand at market j in cases\"\n",
    "    :d, (:i,:j), \"distance in thousands of miles\", [1,2] #notice the file d.csv has the wrong columns\n",
    "end)\n",
    "\n",
    "@GamsParameters(GU,begin\n",
    "    :c, (:i,:j), \"transport cost in thousands of dollars per case\"\n",
    "end)\n",
    "\n",
    "@GamsScalars(GU,begin\n",
    "    :f, 90, \"freight in dollars per case per thousand miles\"\n",
    "end)\n",
    "\n",
    "\n",
    "\"\"\"\n",
    "In this block, we use the code\n",
    "\n",
    "f = scalar(GU[:f])\n",
    "\n",
    "as an example of extracting a scalar value. This isn't necessary in \n",
    "this code, it works to use GU[:f] in place of f in the following line.\n",
    "\n",
    "However, if used in a JuMP model, extracting this information is necessary\n",
    "as JuMP doesn't recognize the datatype and will throw and error.\n",
    "\"\"\"\n",
    "GU[:c][:i,:j] = scalar(GU[:f])*GU[:d][:i,:j]/1000\n",
    "GU\n",
    "\n"
   ]
  },
  {
   "cell_type": "code",
   "execution_count": 29,
   "metadata": {},
   "outputs": [
    {
     "data": {
      "text/plain": [
       "transport_model (generic function with 1 method)"
      ]
     },
     "metadata": {},
     "output_type": "display_data"
    }
   ],
   "source": [
    "function transport_model(GU)\n",
    "    I = GU[:i]\n",
    "    J = GU[:j]\n",
    "\n",
    "    c = GU[:c]\n",
    "    a = GU[:a]\n",
    "    b = GU[:b]\n",
    "\n",
    "    m = MCPModel()\n",
    "\n",
    "    @variables(m, begin\n",
    "        w[I] >= 0\n",
    "        p[J] >= 0\n",
    "        x[I,J] >= 0\n",
    "    end)\n",
    "\n",
    "\n",
    "    @mapping(m,profit[i = I,j=J], w[i]+c[[i],[j]]-p[j])\n",
    "    @mapping(m,supply[i = I], a[[i]] - sum(x[i,j] for j∈J))\n",
    "    @mapping(m,demand[j=J], sum(x[i,j] for i∈I) - b[[j]])\n",
    "\n",
    "    @complementarity(m,profit,x)\n",
    "    @complementarity(m,supply,w)\n",
    "    @complementarity(m,demand,p)\n",
    "\n",
    "\n",
    "    return m\n",
    "\n",
    "end\n"
   ]
  },
  {
   "cell_type": "code",
   "execution_count": 35,
   "metadata": {},
   "outputs": [
    {
     "data": {
      "text/plain": [
       "transport_model_mcp (generic function with 1 method)"
      ]
     },
     "metadata": {},
     "output_type": "display_data"
    }
   ],
   "source": [
    "function transport_model_mcp(GU)\n",
    "    I = GU[:i]\n",
    "    J = GU[:j]\n",
    "\n",
    "    c = GU[:c]\n",
    "    a = GU[:a]\n",
    "    b = GU[:b]\n",
    "\n",
    "    m = Model(PATHSolver.Optimizer)\n",
    "\n",
    "    @variables(m, begin\n",
    "        w[I] >= 0\n",
    "        p[J] >= 0\n",
    "        x[I,J] >= 0\n",
    "    end)\n",
    "\n",
    "    @constraints(m, begin\n",
    "        profit[i = I,j=J],  w[i]+c[[i],[j]] - p[j]          ⟂ x[i,j]\n",
    "        supply[i = I],      a[[i]] - sum(x[i,j] for j∈J)    ⟂ w[i]\n",
    "        demand[j=J],        sum(x[i,j] for i∈I) - b[[j]]    ⟂ p[j]\n",
    "    end)\n",
    "\n",
    "    return m\n",
    "\n",
    "end\n"
   ]
  },
  {
   "cell_type": "code",
   "execution_count": 34,
   "metadata": {},
   "outputs": [
    {
     "data": {
      "text/plain": [
       "2-dimensional DenseAxisArray{Float64,2,...} with index sets:\n",
       "    Dimension 1, [:seattle, :san_diego]\n",
       "    Dimension 2, [:new_york, :chicago, :topeka]\n",
       "And data, a 2×3 Matrix{Float64}:\n",
       " 0.0  0.0  0.0\n",
       " 0.0  0.0  0.0"
      ]
     },
     "metadata": {},
     "output_type": "display_data"
    }
   ],
   "source": [
    "model = transport_model_mcp(GU)\n",
    "\n",
    "set_silent(model)\n",
    "\n",
    "optimize!(model)\n",
    "\n",
    "value.(model[:x])\n"
   ]
  },
  {
   "cell_type": "code",
   "execution_count": 32,
   "metadata": {},
   "outputs": [
    {
     "name": "stdout",
     "output_type": "stream",
     "text": [
      "Path 5.0.03 (Fri Jun 26 10:05:33 2020)\n",
      "Written by Todd Munson, Steven Dirkse, Youngdae Kim, and Michael Ferris\n",
      "\n",
      "Crash Log\n",
      "major  func  diff  size  residual    step       prox   (label)\n",
      "    0     0             1.0416e+03             0.0e+00 (demand[new_york])\n",
      "    1     1     9     3 1.0029e+03  1.0e+00    1.0e+01 (demand[new_york])\n",
      "    2     2     6     9 9.4289e+02  1.0e+00    9.0e+00 (demand[new_york])\n",
      "    3     3     0     9 8.8483e+02  1.0e+00    8.1e+00 (demand[new_york])\n",
      "pn_search terminated: no basis change.\n",
      "\n",
      "Major Iteration Log\n",
      "major minor  func  grad  residual    step  type prox    inorm  (label)\n",
      "    0     0     4     4 8.8483e+02           I 7.3e+00 4.9e+02 (demand[new_york)\n",
      "    1     1     5     5 7.2119e+02  1.0e+00 SO 2.9e+00 2.6e+02 (profit[seattle,)\n",
      "    2     2     6     6 3.6245e+02  1.0e+00 SO 1.2e+00 1.9e+02 (profit[san_dieg)\n",
      "    3     2     7     7 5.9071e+01  1.0e+00 SO 4.7e-01 3.3e+01 (supply[san_dieg)\n",
      "    4     1     8     8 1.6118e+01  1.0e+00 SO 1.9e-01 7.7e+00 (supply[seattle])\n",
      "    5     6     9     9 4.3905e-01  1.0e+00 SO 7.5e-02 2.2e-01 (profit[san_dieg)\n",
      "    6     4    10    10 2.0855e-01  1.0e+00 SO 3.0e-02 1.1e-01 (profit[seattle,)\n",
      "    7     1    11    11 2.6297e-02  1.0e+00 SO 1.2e-02 1.8e-02 (profit[san_dieg)\n",
      "    8     1    12    12 2.6239e-02  1.0e+00 SO 2.6e-03 1.8e-02 (profit[san_dieg)\n",
      "    9     1    13    13 2.6238e-02  1.0e+00 SO 1.1e-03 1.8e-02 (profit[san_dieg)\n",
      "   10     2    14    14 2.3838e-02  1.0e+00 SO 4.2e-04 1.4e-02 (profit[san_dieg)\n",
      "   11     2    15    15 9.5865e-03  1.0e+00 SO 1.7e-04 6.0e-03 (profit[san_dieg)\n",
      "   12     3    16    16 5.6196e-03  1.0e+00 SO 6.7e-05 3.9e-03 (profit[seattle,)\n",
      "   13     2    17    17 3.5355e-03  1.0e+00 SO 2.7e-05 2.0e-03 (profit[san_dieg)\n",
      "   14     2    18    18 6.9529e-08  1.0e+00 SO 1.1e-05 6.6e-08 (demand[chicago])\n",
      "\n",
      "Major Iterations. . . . 14\n",
      "Minor Iterations. . . . 30\n",
      "Restarts. . . . . . . . 0\n",
      "Crash Iterations. . . . 3\n",
      "Gradient Steps. . . . . 0\n",
      "Function Evaluations. . 18\n",
      "Gradient Evaluations. . 18\n",
      "Basis Time. . . . . . . 0.000000\n",
      "Total Time. . . . . . . 0.000000\n",
      "Residual. . . . . . . . 6.952922e-08\n"
     ]
    },
    {
     "data": {
      "text/plain": [
       ":Solved"
      ]
     },
     "metadata": {},
     "output_type": "display_data"
    }
   ],
   "source": [
    "model = transport_model(GU)\n",
    "\n",
    "solveMCP(model)"
   ]
  },
  {
   "cell_type": "code",
   "execution_count": 24,
   "metadata": {},
   "outputs": [
    {
     "data": {
      "text/plain": [
       "2-dimensional DenseAxisArray{Float64,2,...} with index sets:\n",
       "    Dimension 1, [:seattle, :san_diego]\n",
       "    Dimension 2, [:new_york, :chicago, :topeka]\n",
       "And data, a 2×3 Matrix{Float64}:\n",
       "  50.0  300.0    0.0\n",
       " 275.0    0.0  275.0"
      ]
     },
     "metadata": {},
     "output_type": "display_data"
    }
   ],
   "source": [
    "result_value.(model[:x])"
   ]
  }
 ],
 "metadata": {
  "kernelspec": {
   "display_name": "Julia 1.8.0",
   "language": "julia",
   "name": "julia-1.8"
  },
  "language_info": {
   "file_extension": ".jl",
   "mimetype": "application/julia",
   "name": "julia",
   "version": "1.8.0"
  },
  "orig_nbformat": 4
 },
 "nbformat": 4,
 "nbformat_minor": 2
}
