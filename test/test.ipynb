{
 "cells": [
  {
   "cell_type": "code",
   "execution_count": 11,
   "metadata": {},
   "outputs": [],
   "source": [
    "using GamsStructure\n",
    "using JSON"
   ]
  },
  {
   "cell_type": "code",
   "execution_count": 14,
   "metadata": {},
   "outputs": [
    {
     "ename": "MethodError",
     "evalue": "MethodError: Cannot `convert` an object of type Char to an object of type String\nClosest candidates are:\n  convert(::Type{String}, !Matched::WeakRefStrings.WeakRefString) at C:\\Users\\mphillipson\\.julia\\packages\\WeakRefStrings\\31nkb\\src\\WeakRefStrings.jl:81\n  convert(::Type{String}, !Matched::FilePathsBase.AbstractPath) at C:\\Users\\mphillipson\\.julia\\packages\\FilePathsBase\\9kSEl\\src\\path.jl:117\n  convert(::Type{String}, !Matched::String) at essentials.jl:218\n  ...",
     "output_type": "error",
     "traceback": [
      "MethodError: Cannot `convert` an object of type Char to an object of type String\n",
      "Closest candidates are:\n",
      "  convert(::Type{String}, !Matched::WeakRefStrings.WeakRefString) at C:\\Users\\mphillipson\\.julia\\packages\\WeakRefStrings\\31nkb\\src\\WeakRefStrings.jl:81\n",
      "  convert(::Type{String}, !Matched::FilePathsBase.AbstractPath) at C:\\Users\\mphillipson\\.julia\\packages\\FilePathsBase\\9kSEl\\src\\path.jl:117\n",
      "  convert(::Type{String}, !Matched::String) at essentials.jl:218\n",
      "  ...\n",
      "\n",
      "Stacktrace:\n",
      " [1] GamsSet(e::Vector{Any}, description::Char, aliases::Vector{Symbol})\n",
      "   @ GamsStructure C:\\Users\\mphillipson\\.julia\\dev\\GamsStructure.jl\\src\\structs.jl:27\n",
      " [2] GamsSet(base_path::String, set_name::Symbol; description::Char, csv_description::Bool, aliases::Vector{Symbol})\n",
      "   @ GamsStructure C:\\Users\\mphillipson\\.julia\\dev\\GamsStructure.jl\\src\\GamsSet.jl:55\n",
      " [3] load_universe(path::String; to_load::Vector{Any}, nGU::GamsUniverse, raw_text::Bool)\n",
      "   @ GamsStructure C:\\Users\\mphillipson\\.julia\\dev\\GamsStructure.jl\\src\\io\\load.jl:34\n",
      " [4] load_universe(path::String)\n",
      "   @ GamsStructure C:\\Users\\mphillipson\\.julia\\dev\\GamsStructure.jl\\src\\io\\load.jl:18\n",
      " [5] top-level scope\n",
      "   @ c:\\Users\\mphillipson\\.julia\\dev\\GamsStructure.jl\\test\\test.ipynb:1"
     ]
    }
   ],
   "source": [
    "load_universe(\"test_data\")"
   ]
  },
  {
   "cell_type": "code",
   "execution_count": 13,
   "metadata": {},
   "outputs": [
    {
     "data": {
      "text/plain": [
       "Dict{String, Any} with 3 entries:\n",
       "  \"set\"    => Dict{String, Any}(\"j\"=>\"Test set\", \"i\"=>\"Test set\")\n",
       "  \"scalar\" => Dict{String, Any}()\n",
       "  \"parm\"   => Dict{String, Any}(\"p\"=>Any[Any[\"i\", \"j\"], \"test parm\"])"
      ]
     },
     "metadata": {},
     "output_type": "display_data"
    }
   ],
   "source": [
    "info=JSON.parse(open(\"test_data/gams_info.json\", \"r\"))"
   ]
  },
  {
   "cell_type": "code",
   "execution_count": 17,
   "metadata": {},
   "outputs": [
    {
     "data": {
      "text/plain": [
       "Dict{String, Any} with 2 entries:\n",
       "  \"j\" => \"Test set\"\n",
       "  \"i\" => \"Test set\""
      ]
     },
     "metadata": {},
     "output_type": "display_data"
    }
   ],
   "source": [
    "info[\"set\"]"
   ]
  },
  {
   "cell_type": "code",
   "execution_count": 4,
   "metadata": {},
   "outputs": [
    {
     "data": {
      "text/plain": []
     },
     "metadata": {},
     "output_type": "display_data"
    },
    {
     "name": "stdout",
     "output_type": "stream",
     "text": [
      "Sets\n",
      "\n",
      "\n",
      "Parameters\n",
      "\n",
      "\n",
      "Scalars\n",
      "\n"
     ]
    }
   ],
   "source": [
    "GU = GamsUniverse()"
   ]
  },
  {
   "cell_type": "code",
   "execution_count": 9,
   "metadata": {},
   "outputs": [
    {
     "data": {
      "text/plain": []
     },
     "metadata": {},
     "output_type": "display_data"
    },
    {
     "name": "stdout",
     "output_type": "stream",
     "text": [
      "Description: LKJDSF\n",
      "Domain: (:i, :j)\n",
      "\n",
      "[1.0 2.0; 3.0 4.0]"
     ]
    }
   ],
   "source": [
    "@GamsSets(GU,\"test_data\",begin\n",
    "    :i, \"\"\n",
    "    :j, \"\"\n",
    "end)\n",
    "\n",
    "@GamsParameters(GU,\"test_data\",begin\n",
    "    :p, (:i,:j), \"LKJDSF\"\n",
    "end)"
   ]
  },
  {
   "cell_type": "code",
   "execution_count": 22,
   "metadata": {},
   "outputs": [
    {
     "data": {
      "text/plain": [
       "110"
      ]
     },
     "metadata": {},
     "output_type": "display_data"
    }
   ],
   "source": [
    "GU = GamsUniverse()\n",
    "\n",
    "@GamsSet(GU,:i,\"Test Set\",begin\n",
    "    a,\"elm\"\n",
    "    b,\"elm2\"\n",
    "end)\n",
    "\n",
    "alias(GU,:i,:j)\n",
    "\n",
    "@GamsParameters(GU,begin\n",
    "    :p, (:i,:j), \"test parm\"\n",
    "end)\n",
    "\n",
    "#add_parameter(GU,:p,GamsParameter((:i,:j),GU,description = \"test parm\"))\n",
    "\n",
    "cnt = 1\n",
    "for i∈GU[:i],j∈GU[:j]\n",
    "    GU[:p][[i],[j]] = cnt\n",
    "    cnt+=1\n",
    "end\n",
    "\n",
    "unload(GU,\"test_data\")"
   ]
  }
 ],
 "metadata": {
  "kernelspec": {
   "display_name": "Julia 1.8.0",
   "language": "julia",
   "name": "julia-1.8"
  },
  "language_info": {
   "file_extension": ".jl",
   "mimetype": "application/julia",
   "name": "julia",
   "version": "1.8.0"
  },
  "orig_nbformat": 4
 },
 "nbformat": 4,
 "nbformat_minor": 2
}
