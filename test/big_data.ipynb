{
 "cells": [
  {
   "cell_type": "code",
   "execution_count": 1,
   "metadata": {},
   "outputs": [],
   "source": [
    "using GamsStructure\n",
    "using NamedArrays\n",
    "\n",
    "using BenchmarkTools"
   ]
  },
  {
   "cell_type": "code",
   "execution_count": 2,
   "metadata": {},
   "outputs": [],
   "source": [
    "GU = GamsUniverse();"
   ]
  },
  {
   "cell_type": "code",
   "execution_count": 3,
   "metadata": {},
   "outputs": [
    {
     "name": "stdout",
     "output_type": "stream",
     "text": [
      "Storing Values\n",
      "\n",
      "Parameter: Trial(2.583 s)\n",
      "NamedArray: Trial(366.697 ms)\n"
     ]
    }
   ],
   "source": [
    "N = 1000\n",
    "Sy = Symbol.(\"k\",1:N)\n",
    "S = add_set(GU,:s,GamsSet(Sy));\n",
    "\n",
    "P = Parameter(GU,(:s,:s));\n",
    "\n",
    "GamsStructure.deactivate(GU,:s,:k1)\n",
    "\n",
    "\n",
    "A = NamedArray(zeros(N,N),(Sy,Sy));\n",
    "\n",
    "\n",
    "store1 = @benchmark begin\n",
    "    for s1∈S,s2∈S\n",
    "        A[s1,s2] = 1\n",
    "    end\n",
    "end\n",
    "\n",
    "store2 = @benchmark begin \n",
    "    for s1∈S,s2∈S\n",
    "        P[s1,s2] = 1\n",
    "    end\n",
    "end\n",
    "\n",
    "println(\"Storing Values\\n\\nParameter: $store2\\nNamedArray: $store1\")"
   ]
  },
  {
   "cell_type": "code",
   "execution_count": 4,
   "metadata": {},
   "outputs": [
    {
     "name": "stdout",
     "output_type": "stream",
     "text": [
      "Single element retrieval: \n",
      "\n",
      "Parameter as symbols: Trial(907.200 μs)\n",
      "Parameter as vectors: Trial(1.421 ms)\n",
      "NamedArray as symbols: Trial(100.900 μs)\n",
      "NamedArray as vectors: Trial(6.101 ms)\n"
     ]
    }
   ],
   "source": [
    "t1 = @benchmark begin \n",
    "    for elm in S\n",
    "        P[elm,elm]\n",
    "    end\n",
    "end\n",
    "\n",
    "t3 = @benchmark begin \n",
    "    for elm in S\n",
    "        P[[elm],[elm]]\n",
    "    end\n",
    "end\n",
    "\n",
    "t2 = @benchmark begin\n",
    "    for elm in S\n",
    "        A[elm,elm]\n",
    "    end\n",
    "end\n",
    "\n",
    "t4 = @benchmark begin\n",
    "    for elm in S\n",
    "        A[[elm],[elm]]\n",
    "    end\n",
    "end\n",
    "\n",
    "println(\n",
    "    \"Single element retrieval: \\n\\n\"*\n",
    "    \"Parameter as symbols: $t1\\n\"*\n",
    "    \"Parameter as vectors: $t3\\n\"*\n",
    "    \"NamedArray as symbols: $t2\\n\"*\n",
    "    \"NamedArray as vectors: $t4\"\n",
    "    )"
   ]
  },
  {
   "cell_type": "code",
   "execution_count": 5,
   "metadata": {},
   "outputs": [
    {
     "name": "stdout",
     "output_type": "stream",
     "text": [
      "Two element retrieval: \n",
      "\n",
      " Parameter: Trial(1.359 ms)\n",
      "NamedArray: Trial(3.131 ms)\n"
     ]
    }
   ],
   "source": [
    "t3 = @benchmark begin \n",
    "    for elm in S\n",
    "        P[[elm,:k1],elm]\n",
    "    end\n",
    "end\n",
    "\n",
    "t4 = @benchmark begin \n",
    "    for elm in S\n",
    "        A[[elm,:k1],elm]\n",
    "    end\n",
    "end\n",
    "\n",
    "println(\"Two element retrieval: \\n\\n Parameter: $t3\\nNamedArray: $t4\")"
   ]
  },
  {
   "cell_type": "code",
   "execution_count": 6,
   "metadata": {},
   "outputs": [
    {
     "name": "stdout",
     "output_type": "stream",
     "text": [
      "Two element retrieval: \n",
      "\n",
      " Parameter: Trial(2.090 ms)\n",
      "NamedArray: Trial(18.597 ms)\n"
     ]
    }
   ],
   "source": [
    "t3 = @benchmark begin \n",
    "    for elm in S\n",
    "        P[[elm,:k1],[elm,:k1]]\n",
    "    end\n",
    "end\n",
    "\n",
    "t4 = @benchmark begin \n",
    "    for elm in S\n",
    "        A[[elm,:k1],[elm,:k1]]\n",
    "    end\n",
    "end\n",
    "\n",
    "println(\"Two element retrieval: \\n\\n Parameter: $t3\\nNamedArray: $t4\")"
   ]
  },
  {
   "cell_type": "code",
   "execution_count": 7,
   "metadata": {},
   "outputs": [
    {
     "name": "stdout",
     "output_type": "stream",
     "text": [
      "Two element retrieval: \n",
      "\n",
      "Parameter as set: Trial(1.790 s)\n",
      "Parameter as vector: Trial(551.108 ms)\n",
      "NamedArray: Trial(284.745 ms)\n"
     ]
    }
   ],
   "source": [
    "t1 = @benchmark begin \n",
    "    for elm in S\n",
    "        P[[elm,:k1],:s]\n",
    "    end\n",
    "end\n",
    "\n",
    "\n",
    "t3 = @benchmark begin \n",
    "    for elm in S\n",
    "        P[[elm,:k1],Sy]\n",
    "    end\n",
    "end\n",
    "\n",
    "t4 = @benchmark begin \n",
    "    for elm in S\n",
    "        A[[elm,:k1],Sy]\n",
    "    end\n",
    "end\n",
    "\n",
    "println(\"Slice: \\n\\nParameter as set: $t1\\nParameter as vector: $t3\\nNamedArray: $t4\")"
   ]
  },
  {
   "cell_type": "code",
   "execution_count": 8,
   "metadata": {},
   "outputs": [
    {
     "data": {
      "text/plain": [
       "BenchmarkTools.Trial: 8 samples with 1 evaluation.\n",
       " Range \u001b[90m(\u001b[39m\u001b[36m\u001b[1mmin\u001b[22m\u001b[39m … \u001b[35mmax\u001b[39m\u001b[90m):  \u001b[39m\u001b[36m\u001b[1m367.192 ms\u001b[22m\u001b[39m … \u001b[35m   1.006 s\u001b[39m  \u001b[90m┊\u001b[39m GC \u001b[90m(\u001b[39mmin … max\u001b[90m): \u001b[39m12.45% … 9.19%\n",
       " Time  \u001b[90m(\u001b[39m\u001b[34m\u001b[1mmedian\u001b[22m\u001b[39m\u001b[90m):     \u001b[39m\u001b[34m\u001b[1m500.360 ms               \u001b[22m\u001b[39m\u001b[90m┊\u001b[39m GC \u001b[90m(\u001b[39mmedian\u001b[90m):    \u001b[39m14.66%\n",
       " Time  \u001b[90m(\u001b[39m\u001b[32m\u001b[1mmean\u001b[22m\u001b[39m ± \u001b[32mσ\u001b[39m\u001b[90m):   \u001b[39m\u001b[32m\u001b[1m641.240 ms\u001b[22m\u001b[39m ± \u001b[32m269.490 ms\u001b[39m  \u001b[90m┊\u001b[39m GC \u001b[90m(\u001b[39mmean ± σ\u001b[90m):  \u001b[39m11.72% ± 1.89%\n",
       "\n",
       "  \u001b[39m▁\u001b[39m \u001b[39m \u001b[39m \u001b[39m \u001b[39m \u001b[39m▁\u001b[39m█\u001b[34m \u001b[39m\u001b[39m \u001b[39m \u001b[39m \u001b[39m \u001b[39m \u001b[39m \u001b[39m \u001b[39m \u001b[39m▁\u001b[39m \u001b[39m \u001b[39m \u001b[39m \u001b[39m \u001b[39m \u001b[39m \u001b[39m \u001b[32m \u001b[39m\u001b[39m \u001b[39m \u001b[39m \u001b[39m \u001b[39m \u001b[39m \u001b[39m \u001b[39m \u001b[39m \u001b[39m \u001b[39m \u001b[39m \u001b[39m \u001b[39m \u001b[39m \u001b[39m \u001b[39m \u001b[39m \u001b[39m \u001b[39m \u001b[39m \u001b[39m \u001b[39m \u001b[39m \u001b[39m \u001b[39m \u001b[39m▁\u001b[39m \u001b[39m▁\u001b[39m \u001b[39m \u001b[39m \u001b[39m \u001b[39m▁\u001b[39m \u001b[39m \n",
       "  \u001b[39m█\u001b[39m▁\u001b[39m▁\u001b[39m▁\u001b[39m▁\u001b[39m▁\u001b[39m█\u001b[39m█\u001b[34m▁\u001b[39m\u001b[39m▁\u001b[39m▁\u001b[39m▁\u001b[39m▁\u001b[39m▁\u001b[39m▁\u001b[39m▁\u001b[39m▁\u001b[39m█\u001b[39m▁\u001b[39m▁\u001b[39m▁\u001b[39m▁\u001b[39m▁\u001b[39m▁\u001b[39m▁\u001b[39m▁\u001b[32m▁\u001b[39m\u001b[39m▁\u001b[39m▁\u001b[39m▁\u001b[39m▁\u001b[39m▁\u001b[39m▁\u001b[39m▁\u001b[39m▁\u001b[39m▁\u001b[39m▁\u001b[39m▁\u001b[39m▁\u001b[39m▁\u001b[39m▁\u001b[39m▁\u001b[39m▁\u001b[39m▁\u001b[39m▁\u001b[39m▁\u001b[39m▁\u001b[39m▁\u001b[39m▁\u001b[39m▁\u001b[39m▁\u001b[39m▁\u001b[39m▁\u001b[39m█\u001b[39m▁\u001b[39m█\u001b[39m▁\u001b[39m▁\u001b[39m▁\u001b[39m▁\u001b[39m█\u001b[39m \u001b[39m▁\n",
       "  367 ms\u001b[90m           Histogram: frequency by time\u001b[39m          1.01 s \u001b[0m\u001b[1m<\u001b[22m\n",
       "\n",
       " Memory estimate\u001b[90m: \u001b[39m\u001b[33m205.34 MiB\u001b[39m, allocs estimate\u001b[90m: \u001b[39m\u001b[33m5971026\u001b[39m."
      ]
     },
     "metadata": {},
     "output_type": "display_data"
    }
   ],
   "source": [
    "@benchmark P[:s,:s]"
   ]
  },
  {
   "cell_type": "code",
   "execution_count": null,
   "metadata": {},
   "outputs": [],
   "source": []
  }
 ],
 "metadata": {
  "kernelspec": {
   "display_name": "Julia 1.9.2",
   "language": "julia",
   "name": "julia-1.9"
  },
  "language_info": {
   "file_extension": ".jl",
   "mimetype": "application/julia",
   "name": "julia",
   "version": "1.9.2"
  },
  "orig_nbformat": 4
 },
 "nbformat": 4,
 "nbformat_minor": 2
}
