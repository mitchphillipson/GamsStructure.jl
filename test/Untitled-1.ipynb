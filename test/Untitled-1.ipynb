{
 "cells": [
  {
   "cell_type": "code",
   "execution_count": 1,
   "metadata": {},
   "outputs": [],
   "source": [
    "using GamsStructure"
   ]
  },
  {
   "cell_type": "code",
   "execution_count": 3,
   "metadata": {},
   "outputs": [
    {
     "data": {
      "text/plain": []
     },
     "metadata": {},
     "output_type": "display_data"
    },
    {
     "name": "stdout",
     "output_type": "stream",
     "text": [
      "Description: Hi\n",
      "Domain: (:i, :j)\n",
      "\n",
      "[1.0 2.0; 3.0 4.0]"
     ]
    }
   ],
   "source": [
    "GU = GamsUniverse()\n",
    "@GamsSets(GU,\"test_data\",begin\n",
    "    :i,\"\"\n",
    "    :j,\"\"\n",
    "end)\n",
    "\n",
    "@load_parameters!(GU,\"test_data\",begin\n",
    "    :p, (:i,:j), description => \"Hi\"\n",
    "end)"
   ]
  },
  {
   "cell_type": "code",
   "execution_count": 4,
   "metadata": {},
   "outputs": [
    {
     "data": {
      "text/plain": []
     },
     "metadata": {},
     "output_type": "display_data"
    },
    {
     "name": "stdout",
     "output_type": "stream",
     "text": [
      "Sets\n",
      "\n",
      "j => \n",
      "i => \n",
      "\n",
      "Parameters\n",
      "\n",
      "p => (:i, :j) => Hi\n",
      "\n",
      "Scalars\n",
      "\n"
     ]
    }
   ],
   "source": [
    "GU"
   ]
  },
  {
   "cell_type": "code",
   "execution_count": null,
   "metadata": {},
   "outputs": [],
   "source": [
    "using MacroTools"
   ]
  },
  {
   "cell_type": "code",
   "execution_count": null,
   "metadata": {},
   "outputs": [],
   "source": [
    "macro _load_parameters!(GU,base_path,block)\n",
    "    GU = esc(GU)\n",
    "    base_path = esc(base_path)\n",
    "    if !(isa(block,Expr) && block.head == :block)\n",
    "        error()\n",
    "    end\n",
    "\n",
    "    code = quote end\n",
    "    for it in block.args\n",
    "        if isexpr(it,:tuple)\n",
    "            parm_name = it.args[1]\n",
    "            domain = it.args[2]\n",
    "            path = :(\"$($base_path)/$($parm_name).csv\")\n",
    "            desc = \"\"\n",
    "            columns = missing\n",
    "            value_name = QuoteNode(:value)\n",
    "            for elm in it.args[3:end]\n",
    "                if elm.args[1] != :(=>)\n",
    "                    continue\n",
    "                end\n",
    "                if elm.args[2] == :description\n",
    "                    desc = elm.args[3]\n",
    "                elseif elm.args[2] == :columns\n",
    "                    columns = elm.args[3]\n",
    "                elseif elm.args[2] == :value_name\n",
    "                    value_name = esc(elm.args[3])\n",
    "                elseif elm.args[2] == :file_name\n",
    "                    path = :(\"$($base_path)/$($(elm.args[3]))\")\n",
    "                end\n",
    "            end\n",
    "            push!(code.args, :($load_parameter!($GU,$path,$parm_name,$domain;\n",
    "                                                description = $desc,\n",
    "                                                columns = $columns,\n",
    "                                                value_name = $value_name\n",
    "                                                )))\n",
    "\n",
    "        end\n",
    "    end\n",
    "    return code\n",
    "end"
   ]
  },
  {
   "cell_type": "code",
   "execution_count": null,
   "metadata": {},
   "outputs": [],
   "source": [
    "@_load_parameters!(GU,\"test_data\",begin\n",
    "    :p, (:i,:j),description => \"This is a test\",file_name =>\"p copy.csv\", value_name => :data,columns=>[1,2]\n",
    "end)"
   ]
  },
  {
   "cell_type": "code",
   "execution_count": null,
   "metadata": {},
   "outputs": [],
   "source": [
    "GU"
   ]
  },
  {
   "cell_type": "code",
   "execution_count": null,
   "metadata": {},
   "outputs": [],
   "source": [
    "@macroexpand(@_load_parameters!(GU,\"test_data\",begin\n",
    ":p, (:i,:j)\n",
    "end))"
   ]
  },
  {
   "cell_type": "code",
   "execution_count": null,
   "metadata": {},
   "outputs": [],
   "source": []
  },
  {
   "cell_type": "code",
   "execution_count": null,
   "metadata": {},
   "outputs": [],
   "source": [
    "function tt(a,d;b=1,c=2)\n",
    "\n",
    "    return (a+b+c)*d\n",
    "end\n",
    "\n",
    "macro testing(block)\n",
    "    it = block.args[2]\n",
    "    \n",
    "    #return(it)\n",
    "    a = it.args[1]\n",
    "    d = it.args[2]\n",
    "    b = 0\n",
    "    c = 0\n",
    "    for elm in it.args[3:end]\n",
    "        if elm.args[2] ==:b\n",
    "            b = elm.args[3]\n",
    "        elseif elm.args[2] == :c\n",
    "            c = elm.args[3]\n",
    "        end\n",
    "    end\n",
    "    #kwargs = ()\n",
    "    #num = it.args[1]\n",
    "    #if length(it.args)>1\n",
    "    #    kwargs = esc(it.args[2])\n",
    "    #end\n",
    "    return :($tt($a,$d;b=$b,c=$c))\n",
    "end"
   ]
  },
  {
   "cell_type": "code",
   "execution_count": null,
   "metadata": {},
   "outputs": [],
   "source": [
    "@testing(begin\n",
    "    10, 11,c=>8\n",
    "end)"
   ]
  },
  {
   "cell_type": "code",
   "execution_count": null,
   "metadata": {},
   "outputs": [],
   "source": [
    "@macroexpand @testing begin 10, 11, :b=>2, :c=>3 end"
   ]
  },
  {
   "cell_type": "code",
   "execution_count": null,
   "metadata": {},
   "outputs": [],
   "source": [
    "m = (b=2,c=4)"
   ]
  },
  {
   "cell_type": "code",
   "execution_count": null,
   "metadata": {},
   "outputs": [],
   "source": [
    "b = get(m,:d,0)"
   ]
  }
 ],
 "metadata": {
  "kernelspec": {
   "display_name": "Julia 1.8.0",
   "language": "julia",
   "name": "julia-1.8"
  },
  "language_info": {
   "file_extension": ".jl",
   "mimetype": "application/julia",
   "name": "julia",
   "version": "1.8.0"
  },
  "orig_nbformat": 4
 },
 "nbformat": 4,
 "nbformat_minor": 2
}
