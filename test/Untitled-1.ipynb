{
 "cells": [
  {
   "cell_type": "code",
   "execution_count": 1,
   "metadata": {},
   "outputs": [],
   "source": [
    "using GamsStructure\n",
    "using MacroTools"
   ]
  },
  {
   "cell_type": "code",
   "execution_count": 2,
   "metadata": {},
   "outputs": [
    {
     "name": "stdout",
     "output_type": "stream",
     "text": [
      "Description: \n",
      "Domain: (:i, :j)\n",
      "\n"
     ]
    },
    {
     "data": {
      "text/plain": []
     },
     "metadata": {},
     "output_type": "display_data"
    },
    {
     "name": "stdout",
     "output_type": "stream",
     "text": [
      "[1.0 2.0; 3.0 4.0"
     ]
    },
    {
     "name": "stdout",
     "output_type": "stream",
     "text": [
      "]"
     ]
    }
   ],
   "source": [
    "GU = GamsUniverse()\n",
    "@load_sets!(GU,\"test_data\",begin\n",
    "    :i,\"\"\n",
    "    :j,\"\"\n",
    "end)\n",
    "\n",
    "@load_parameters!(GU,\"test_data\",begin\n",
    "    :p, (:i,:j), description => \"Hi\"\n",
    "    :p_,(:i,:j), file_name=>\"p copy.csv\",value_name=>:data\n",
    "end)"
   ]
  }
 ],
 "metadata": {
  "kernelspec": {
   "display_name": "Julia 1.8.0",
   "language": "julia",
   "name": "julia-1.8"
  },
  "language_info": {
   "file_extension": ".jl",
   "mimetype": "application/julia",
   "name": "julia",
   "version": "1.8.0"
  },
  "orig_nbformat": 4
 },
 "nbformat": 4,
 "nbformat_minor": 2
}
